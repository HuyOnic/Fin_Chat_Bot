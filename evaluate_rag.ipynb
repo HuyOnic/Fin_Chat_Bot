{
 "cells": [
  {
   "cell_type": "code",
   "execution_count": 22,
   "id": "a711d7aa",
   "metadata": {},
   "outputs": [],
   "source": [
    "from app.db.qdrant import hybrid_search, search_dense, search_sparse\n",
    "from app.utils.vectorizer import convert_to_sparse_vector, convert_to_dense_vector"
   ]
  },
  {
   "cell_type": "code",
   "execution_count": 23,
   "id": "e530bb60",
   "metadata": {},
   "outputs": [],
   "source": [
    "def get_ids_hybrid(question, top_k=3):\n",
    "    \"\"\"\n",
    "    Lấy danh sách id của các câu hỏi liên quan đến câu hỏi đầu vào.\n",
    "    \"\"\"\n",
    "    # Chuyển đổi câu hỏi thành vector\n",
    "    dense = convert_to_dense_vector(question)\n",
    "    sparse = convert_to_sparse_vector(question)\n",
    "    \n",
    "    # Tìm kiếm trong cơ sở dữ liệu\n",
    "    results = hybrid_search(dense, sparse, top_k=top_k, collection_name=\"stockcode_hybrid_search\")\n",
    "    \n",
    "    # Trả về danh sách id\n",
    "    return [result.id for result in results]"
   ]
  },
  {
   "cell_type": "code",
   "execution_count": 24,
   "id": "5ada22c2",
   "metadata": {},
   "outputs": [],
   "source": [
    "def get_ids_sparse(question, top_k=3):\n",
    "    \"\"\"\n",
    "    Lấy danh sách id của các câu hỏi liên quan đến câu hỏi đầu vào.\n",
    "    \"\"\"\n",
    "    # Chuyển đổi câu hỏi thành vector\n",
    "    sparse = convert_to_sparse_vector(question)\n",
    "    \n",
    "    # Tìm kiếm trong cơ sở dữ liệu\n",
    "    results = search_sparse(sparse, top_k=top_k, collection_name=\"stockcode_hybrid_search\")\n",
    "    \n",
    "    # Trả về danh sách id\n",
    "    return [result.id for result in results]"
   ]
  },
  {
   "cell_type": "code",
   "execution_count": 25,
   "id": "26f85c47",
   "metadata": {},
   "outputs": [],
   "source": [
    "def get_ids_dense(question, top_k=3):\n",
    "    \"\"\"\n",
    "    Lấy danh sách id của các câu hỏi liên quan đến câu hỏi đầu vào.\n",
    "    \"\"\"\n",
    "    # Chuyển đổi câu hỏi thành vector\n",
    "    dense = convert_to_dense_vector(question)\n",
    "    \n",
    "    # Tìm kiếm trong cơ sở dữ liệu\n",
    "    results = search_dense(dense, top_k=top_k, collection_name=\"stockcode_hybrid_search\")\n",
    "    \n",
    "    # Trả về danh sách id\n",
    "    return [result.id for result in results]"
   ]
  },
  {
   "cell_type": "code",
   "execution_count": 26,
   "id": "756e23d0",
   "metadata": {},
   "outputs": [],
   "source": [
    "# dọc file csv questions_with_id.csv\n",
    "\n",
    "import pandas as pd\n",
    "\n",
    "df = pd.read_csv(\"data/questions_with_id.csv\")"
   ]
  },
  {
   "cell_type": "code",
   "execution_count": 27,
   "id": "ac5b7803",
   "metadata": {},
   "outputs": [
    {
     "data": {
      "text/html": [
       "<div>\n",
       "<style scoped>\n",
       "    .dataframe tbody tr th:only-of-type {\n",
       "        vertical-align: middle;\n",
       "    }\n",
       "\n",
       "    .dataframe tbody tr th {\n",
       "        vertical-align: top;\n",
       "    }\n",
       "\n",
       "    .dataframe thead th {\n",
       "        text-align: right;\n",
       "    }\n",
       "</style>\n",
       "<table border=\"1\" class=\"dataframe\">\n",
       "  <thead>\n",
       "    <tr style=\"text-align: right;\">\n",
       "      <th></th>\n",
       "      <th>id</th>\n",
       "      <th>question</th>\n",
       "    </tr>\n",
       "  </thead>\n",
       "  <tbody>\n",
       "    <tr>\n",
       "      <th>0</th>\n",
       "      <td>9e1614c5-1c11-42f7-ba18-43d032712fbb</td>\n",
       "      <td>Microsoft có kế hoạch đầu tư bao nhiêu tiền và...</td>\n",
       "    </tr>\n",
       "    <tr>\n",
       "      <th>1</th>\n",
       "      <td>ef142b12-7529-4f92-a3ea-de5098cd8a21</td>\n",
       "      <td>ACV đã ghi nhận lợi nhuận gộp đạt bao nhiêu tr...</td>\n",
       "    </tr>\n",
       "    <tr>\n",
       "      <th>2</th>\n",
       "      <td>099153c0-af98-499e-8254-f86b2c688205</td>\n",
       "      <td>Chi phí SG&amp;A của công ty PNJ trong nửa đầu năm...</td>\n",
       "    </tr>\n",
       "    <tr>\n",
       "      <th>3</th>\n",
       "      <td>aeae69bd-704b-46f8-b419-1fcd73142916</td>\n",
       "      <td>FPT có triển vọng tăng trưởng như thế nào tron...</td>\n",
       "    </tr>\n",
       "    <tr>\n",
       "      <th>4</th>\n",
       "      <td>b6f7afd5-3f4c-4199-8eec-373ef62bc0f6</td>\n",
       "      <td>Bạn có thể cho biết nội dung khuyến nghị của D...</td>\n",
       "    </tr>\n",
       "  </tbody>\n",
       "</table>\n",
       "</div>"
      ],
      "text/plain": [
       "                                     id  \\\n",
       "0  9e1614c5-1c11-42f7-ba18-43d032712fbb   \n",
       "1  ef142b12-7529-4f92-a3ea-de5098cd8a21   \n",
       "2  099153c0-af98-499e-8254-f86b2c688205   \n",
       "3  aeae69bd-704b-46f8-b419-1fcd73142916   \n",
       "4  b6f7afd5-3f4c-4199-8eec-373ef62bc0f6   \n",
       "\n",
       "                                            question  \n",
       "0  Microsoft có kế hoạch đầu tư bao nhiêu tiền và...  \n",
       "1  ACV đã ghi nhận lợi nhuận gộp đạt bao nhiêu tr...  \n",
       "2  Chi phí SG&A của công ty PNJ trong nửa đầu năm...  \n",
       "3  FPT có triển vọng tăng trưởng như thế nào tron...  \n",
       "4  Bạn có thể cho biết nội dung khuyến nghị của D...  "
      ]
     },
     "execution_count": 27,
     "metadata": {},
     "output_type": "execute_result"
    }
   ],
   "source": [
    "df.head()"
   ]
  },
  {
   "cell_type": "code",
   "execution_count": 28,
   "id": "ff5c26e7",
   "metadata": {},
   "outputs": [],
   "source": [
    "def hybrid_evaluation(top_k=3):\n",
    "    sum = 0\n",
    "    for index, row in df.iterrows():\n",
    "        ids = get_ids_hybrid(row.question, top_k=top_k)\n",
    "        if ids:\n",
    "            if (row.id in ids):\n",
    "                sum += 1\n",
    "\n",
    "    return sum / len(df)"
   ]
  },
  {
   "cell_type": "code",
   "execution_count": 29,
   "id": "c120a90b",
   "metadata": {},
   "outputs": [
    {
     "name": "stdout",
     "output_type": "stream",
     "text": [
      "0.8333333333333334\n"
     ]
    }
   ],
   "source": [
    "z = hybrid_evaluation()\n",
    "print(z)"
   ]
  },
  {
   "cell_type": "code",
   "execution_count": 32,
   "id": "d282a549",
   "metadata": {},
   "outputs": [],
   "source": [
    "def dense_evaluation(top_k=3):\n",
    "    sum = 0\n",
    "    for index, row in df.iterrows():\n",
    "        ids = get_ids_dense(row.question, top_k=top_k)\n",
    "        if ids:\n",
    "            if (row.id in ids):\n",
    "                sum += 1\n",
    "\n",
    "    return sum / len(df)"
   ]
  },
  {
   "cell_type": "code",
   "execution_count": 33,
   "id": "3c78cda0",
   "metadata": {},
   "outputs": [
    {
     "name": "stdout",
     "output_type": "stream",
     "text": [
      "0.7543859649122807\n"
     ]
    }
   ],
   "source": [
    "z = dense_evaluation()\n",
    "print(z)"
   ]
  },
  {
   "cell_type": "code",
   "execution_count": 34,
   "id": "7c3965ec",
   "metadata": {},
   "outputs": [],
   "source": [
    "def sparse_evaluation(top_k=3):\n",
    "    sum = 0\n",
    "    for index, row in df.iterrows():\n",
    "        ids = get_ids_sparse(row.question, top_k=top_k)\n",
    "        if ids:\n",
    "            if (row.id in ids):\n",
    "                sum += 1\n",
    "\n",
    "    return sum / len(df)"
   ]
  },
  {
   "cell_type": "code",
   "execution_count": 36,
   "id": "7dc91790",
   "metadata": {},
   "outputs": [
    {
     "name": "stdout",
     "output_type": "stream",
     "text": [
      "0.45614035087719296\n"
     ]
    }
   ],
   "source": [
    "z = sparse_evaluation(3)\n",
    "print(z)"
   ]
  },
  {
   "cell_type": "code",
   "execution_count": 37,
   "id": "97f10b4a",
   "metadata": {},
   "outputs": [
    {
     "name": "stdout",
     "output_type": "stream",
     "text": [
      "0.8508771929824561\n"
     ]
    }
   ],
   "source": [
    "z = hybrid_evaluation(5)\n",
    "print(z)"
   ]
  },
  {
   "cell_type": "code",
   "execution_count": 38,
   "id": "67f63c0d",
   "metadata": {},
   "outputs": [
    {
     "name": "stdout",
     "output_type": "stream",
     "text": [
      "0.8245614035087719\n"
     ]
    }
   ],
   "source": [
    "z = dense_evaluation(5)\n",
    "print(z)"
   ]
  },
  {
   "cell_type": "code",
   "execution_count": 39,
   "id": "d74e70ba",
   "metadata": {},
   "outputs": [
    {
     "name": "stdout",
     "output_type": "stream",
     "text": [
      "0.49122807017543857\n"
     ]
    }
   ],
   "source": [
    "z = sparse_evaluation(5)\n",
    "print(z)"
   ]
  },
  {
   "cell_type": "code",
   "execution_count": null,
   "id": "9e379749",
   "metadata": {},
   "outputs": [],
   "source": []
  }
 ],
 "metadata": {
  "kernelspec": {
   "display_name": "fin_chatbot",
   "language": "python",
   "name": "python3"
  },
  "language_info": {
   "codemirror_mode": {
    "name": "ipython",
    "version": 3
   },
   "file_extension": ".py",
   "mimetype": "text/x-python",
   "name": "python",
   "nbconvert_exporter": "python",
   "pygments_lexer": "ipython3",
   "version": "3.10.18"
  }
 },
 "nbformat": 4,
 "nbformat_minor": 5
}
