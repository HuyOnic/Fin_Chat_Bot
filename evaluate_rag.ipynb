{
 "cells": [
  {
   "cell_type": "code",
   "execution_count": 1,
   "id": "a711d7aa",
   "metadata": {},
   "outputs": [
    {
     "name": "stderr",
     "output_type": "stream",
     "text": [
      "/home/intern/anaconda3/envs/fin_chatbot/lib/python3.10/site-packages/tqdm/auto.py:21: TqdmWarning: IProgress not found. Please update jupyter and ipywidgets. See https://ipywidgets.readthedocs.io/en/stable/user_install.html\n",
      "  from .autonotebook import tqdm as notebook_tqdm\n"
     ]
    },
    {
     "name": "stdout",
     "output_type": "stream",
     "text": [
      "✅ Kết nối thành công Qdrant localhost:6333. Danh sách collection: collections=[CollectionDescription(name='hybrid_search'), CollectionDescription(name='stockcode_vectors'), CollectionDescription(name='news_hybrid_search'), CollectionDescription(name='news_vectors'), CollectionDescription(name='stockcode_hybrid_search'), CollectionDescription(name='fiinquant_documents')]\n",
      "Đang load model từ: BAAI/bge-m3\n",
      "✅ Embedding Model đã được load thành công!\n"
     ]
    }
   ],
   "source": [
    "from app.db.qdrant import hybrid_search, search_dense, search_sparse\n",
    "from app.utils.vectorizer import convert_to_sparse_vector, convert_to_dense_vector"
   ]
  },
  {
   "cell_type": "code",
   "execution_count": 2,
   "id": "e530bb60",
   "metadata": {},
   "outputs": [],
   "source": [
    "def get_ids_hybrid(question, top_k=3):\n",
    "    \"\"\"\n",
    "    Lấy danh sách id của các câu hỏi liên quan đến câu hỏi đầu vào.\n",
    "    \"\"\"\n",
    "    # Chuyển đổi câu hỏi thành vector\n",
    "    dense = convert_to_dense_vector(question)\n",
    "    sparse = convert_to_sparse_vector(question)\n",
    "    \n",
    "    # Tìm kiếm trong cơ sở dữ liệu\n",
    "    results = hybrid_search(dense, sparse, top_k=top_k, collection_name=\"stockcode_hybrid_search\")\n",
    "    \n",
    "    # Trả về danh sách id\n",
    "    return [result.id for result in results]"
   ]
  },
  {
   "cell_type": "code",
   "execution_count": 3,
   "id": "5ada22c2",
   "metadata": {},
   "outputs": [],
   "source": [
    "def get_ids_sparse(question, top_k=3):\n",
    "    \"\"\"\n",
    "    Lấy danh sách id của các câu hỏi liên quan đến câu hỏi đầu vào.\n",
    "    \"\"\"\n",
    "    # Chuyển đổi câu hỏi thành vector\n",
    "    sparse = convert_to_sparse_vector(question)\n",
    "    \n",
    "    # Tìm kiếm trong cơ sở dữ liệu\n",
    "    results = search_sparse(sparse, top_k=top_k, collection_name=\"stockcode_hybrid_search\")\n",
    "    \n",
    "    # Trả về danh sách id\n",
    "    return [result.id for result in results]"
   ]
  },
  {
   "cell_type": "code",
   "execution_count": 4,
   "id": "26f85c47",
   "metadata": {},
   "outputs": [],
   "source": [
    "def get_ids_dense(question, top_k=3):\n",
    "    \"\"\"\n",
    "    Lấy danh sách id của các câu hỏi liên quan đến câu hỏi đầu vào.\n",
    "    \"\"\"\n",
    "    # Chuyển đổi câu hỏi thành vector\n",
    "    dense = convert_to_dense_vector(question)\n",
    "    \n",
    "    # Tìm kiếm trong cơ sở dữ liệu\n",
    "    results = search_dense(dense, top_k=top_k, collection_name=\"stockcode_hybrid_search\")\n",
    "    \n",
    "    # Trả về danh sách id\n",
    "    return [result.id for result in results]"
   ]
  },
  {
   "cell_type": "code",
   "execution_count": 5,
   "id": "756e23d0",
   "metadata": {},
   "outputs": [],
   "source": [
    "# dọc file csv questions_with_id.csv\n",
    "\n",
    "import pandas as pd\n",
    "\n",
    "df = pd.read_csv(\"questions_with_id.csv\")"
   ]
  },
  {
   "cell_type": "code",
   "execution_count": 6,
   "id": "ac5b7803",
   "metadata": {},
   "outputs": [
    {
     "data": {
      "text/html": [
       "<div>\n",
       "<style scoped>\n",
       "    .dataframe tbody tr th:only-of-type {\n",
       "        vertical-align: middle;\n",
       "    }\n",
       "\n",
       "    .dataframe tbody tr th {\n",
       "        vertical-align: top;\n",
       "    }\n",
       "\n",
       "    .dataframe thead th {\n",
       "        text-align: right;\n",
       "    }\n",
       "</style>\n",
       "<table border=\"1\" class=\"dataframe\">\n",
       "  <thead>\n",
       "    <tr style=\"text-align: right;\">\n",
       "      <th></th>\n",
       "      <th>id</th>\n",
       "      <th>question</th>\n",
       "    </tr>\n",
       "  </thead>\n",
       "  <tbody>\n",
       "    <tr>\n",
       "      <th>0</th>\n",
       "      <td>9e1614c5-1c11-42f7-ba18-43d032712fbb</td>\n",
       "      <td>Microsoft đã cam kết đầu tư bao nhiêu tỷ USD c...</td>\n",
       "    </tr>\n",
       "    <tr>\n",
       "      <th>1</th>\n",
       "      <td>ef142b12-7529-4f92-a3ea-de5098cd8a21</td>\n",
       "      <td>ACV đã ghi nhận lợi nhuận gộp đạt bao nhiêu tr...</td>\n",
       "    </tr>\n",
       "    <tr>\n",
       "      <th>2</th>\n",
       "      <td>8e40abd4-6b28-4ed0-ad74-5b1cdbc3ac48</td>\n",
       "      <td>Tình hình tài chính của ngân hàng VPB trong qu...</td>\n",
       "    </tr>\n",
       "    <tr>\n",
       "      <th>3</th>\n",
       "      <td>099153c0-af98-499e-8254-f86b2c688205</td>\n",
       "      <td>Chi phí SG&amp;A của PNJ trong nửa đầu năm 2024 đã...</td>\n",
       "    </tr>\n",
       "    <tr>\n",
       "      <th>4</th>\n",
       "      <td>4da89781-cb96-42c3-be92-3d37a1f0dc3a</td>\n",
       "      <td>Công ty nào có mã chứng khoán PHR và những thô...</td>\n",
       "    </tr>\n",
       "  </tbody>\n",
       "</table>\n",
       "</div>"
      ],
      "text/plain": [
       "                                     id  \\\n",
       "0  9e1614c5-1c11-42f7-ba18-43d032712fbb   \n",
       "1  ef142b12-7529-4f92-a3ea-de5098cd8a21   \n",
       "2  8e40abd4-6b28-4ed0-ad74-5b1cdbc3ac48   \n",
       "3  099153c0-af98-499e-8254-f86b2c688205   \n",
       "4  4da89781-cb96-42c3-be92-3d37a1f0dc3a   \n",
       "\n",
       "                                            question  \n",
       "0  Microsoft đã cam kết đầu tư bao nhiêu tỷ USD c...  \n",
       "1  ACV đã ghi nhận lợi nhuận gộp đạt bao nhiêu tr...  \n",
       "2  Tình hình tài chính của ngân hàng VPB trong qu...  \n",
       "3  Chi phí SG&A của PNJ trong nửa đầu năm 2024 đã...  \n",
       "4  Công ty nào có mã chứng khoán PHR và những thô...  "
      ]
     },
     "execution_count": 6,
     "metadata": {},
     "output_type": "execute_result"
    }
   ],
   "source": [
    "df.head()"
   ]
  },
  {
   "cell_type": "code",
   "execution_count": 7,
   "id": "ff5c26e7",
   "metadata": {},
   "outputs": [],
   "source": [
    "def hybrid_evaluation(top_k=3):\n",
    "    sum = 0\n",
    "    for index, row in df.iterrows():\n",
    "        ids = get_ids_hybrid(row.question, top_k=top_k)\n",
    "        if ids:\n",
    "            if (row.id in ids):\n",
    "                sum += 1\n",
    "\n",
    "    return sum / len(df)"
   ]
  },
  {
   "cell_type": "code",
   "execution_count": 8,
   "id": "c120a90b",
   "metadata": {},
   "outputs": [
    {
     "name": "stdout",
     "output_type": "stream",
     "text": [
      "0.54\n"
     ]
    }
   ],
   "source": [
    "z = hybrid_evaluation()\n",
    "print(z)"
   ]
  },
  {
   "cell_type": "code",
   "execution_count": 9,
   "id": "d282a549",
   "metadata": {},
   "outputs": [],
   "source": [
    "def dense_evaluation(top_k=3):\n",
    "    sum = 0\n",
    "    for index, row in df.iterrows():\n",
    "        ids = get_ids_dense(row.question, top_k=top_k)\n",
    "        if ids:\n",
    "            if (row.id in ids):\n",
    "                sum += 1\n",
    "\n",
    "    return sum / len(df)"
   ]
  },
  {
   "cell_type": "code",
   "execution_count": 10,
   "id": "3c78cda0",
   "metadata": {},
   "outputs": [
    {
     "name": "stdout",
     "output_type": "stream",
     "text": [
      "0.52\n"
     ]
    }
   ],
   "source": [
    "z = dense_evaluation()\n",
    "print(z)"
   ]
  },
  {
   "cell_type": "code",
   "execution_count": 11,
   "id": "7c3965ec",
   "metadata": {},
   "outputs": [],
   "source": [
    "def sparse_evaluation(top_k=3):\n",
    "    sum = 0\n",
    "    for index, row in df.iterrows():\n",
    "        ids = get_ids_sparse(row.question, top_k=top_k)\n",
    "        if ids:\n",
    "            if (row.id in ids):\n",
    "                sum += 1\n",
    "\n",
    "    return sum / len(df)"
   ]
  },
  {
   "cell_type": "code",
   "execution_count": 12,
   "id": "7dc91790",
   "metadata": {},
   "outputs": [
    {
     "name": "stdout",
     "output_type": "stream",
     "text": [
      "0.32\n"
     ]
    }
   ],
   "source": [
    "z = sparse_evaluation(5)\n",
    "print(z)"
   ]
  }
 ],
 "metadata": {
  "kernelspec": {
   "display_name": "fin_chatbot",
   "language": "python",
   "name": "python3"
  },
  "language_info": {
   "codemirror_mode": {
    "name": "ipython",
    "version": 3
   },
   "file_extension": ".py",
   "mimetype": "text/x-python",
   "name": "python",
   "nbconvert_exporter": "python",
   "pygments_lexer": "ipython3",
   "version": "3.10.18"
  }
 },
 "nbformat": 4,
 "nbformat_minor": 5
}
